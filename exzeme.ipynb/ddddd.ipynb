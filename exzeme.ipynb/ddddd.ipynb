{
 "cells": [
  {
   "cell_type": "code",
   "execution_count": null,
   "metadata": {},
   "outputs": [],
   "source": [
    "class Book:\n",
    "    def __init__(self, title, author, year_published):\n",
    "        self.title = title\n",
    "        self.author = author\n",
    "        self.year_published = year_published\n",
    "\n",
    "    def __str__(self):\n",
    "        return f\"{self.title} by {self.author}, published in {self.year_published}\"\n",
    "\n",
    "class Library:\n",
    "    def __init__(self):\n",
    "        self.books = []\n",
    "\n",
    "    def add_book(self, book):\n",
    "        self.books.append(book)\n",
    "\n",
    "    def remove_book_by_title(self, title):\n",
    "        self.books = [book for book in self.books if book.title != title]\n",
    "\n",
    "    def find_books_by_author(self, author):\n",
    "        return [book for book in self.books if book.author == author]\n",
    "\n",
    "    def display_books(self):\n",
    "        for book in self.books:\n",
    "            print(book)\n",
    "\n",
    "def main():\n",
    "    my_library = Library()\n",
    "\n",
    "\n",
    "    my_library.add_book(Book(\"Kobzar\", \"Taras Shevchenko\", 1961))\n",
    "    my_library.add_book(Book(\"To Kill a Mockingbird\", \"Harper Lee\", 1960))\n",
    "    my_library.add_book(Book(\"The Great Gatsby\", \"F. Scott Fitzgerald\", 1925))\n",
    "\n",
    "    my_library.remove_book_by_title(\"1984\")\n",
    "\n",
    "\n",
    "    print(\"Books by Harper Lee:\")\n",
    "    for book in my_library.find_books_by_author(\"Harper Lee\"):\n",
    "        print(book)\n",
    "\n",
    "\n",
    "    print(\"\\nAll books in the library:\")\n",
    "    my_library.display_books()\n",
    "\n",
    "if __name__ == \"__main__\":\n",
    "    main()"
   ]
  }
 ],
 "metadata": {
  "language_info": {
   "name": "python"
  }
 },
 "nbformat": 4,
 "nbformat_minor": 2
}
